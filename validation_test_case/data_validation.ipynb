{
 "cells": [
  {
   "metadata": {},
   "cell_type": "markdown",
   "source": "# Data Validation Report for `validation_test_case`\n",
   "id": "8a77807f92f26ee"
  },
  {
   "metadata": {},
   "cell_type": "markdown",
   "source": [
    "The validation_test_case project is a test assignment focused on verifying the accuracy of an AI-based ticket classification system.\n",
    "The dataset contains tickets, which are customer reviews or opinions about a company (in this case, Booking).\n",
    "The system automatically classifies each ticket into five predefined topics and determines the sentiment for each topic (positive, negative, or neutral).\n",
    "\n",
    "The goal of this task is to validate the correctness of the system’s outputs in two key dimensions:\n",
    "\n",
    "Topic Volume Validation — Verify whether the number of tickets assigned to each topic matches the expected or actual values.\n",
    "\n",
    "Sentiment Validation — Assess the accuracy of sentiment classification (positive, negative, neutral) within each topic."
   ],
   "id": "f60b78efc34595da"
  },
  {
   "metadata": {},
   "cell_type": "markdown",
   "source": "In the first part of report, I import data from two JSON files, validate their data, and eliminate the possibility of empty lines. In the second, I process and compare the obtained data. In the third, I display graphs demonstrating the data and draw a conclusion on the work done.",
   "id": "47f1148a8cb625cf"
  },
  {
   "metadata": {
    "ExecuteTime": {
     "end_time": "2025-10-31T00:39:59.718909Z",
     "start_time": "2025-10-31T00:39:59.716381Z"
    }
   },
   "cell_type": "code",
   "source": [
    "with open(\"json_file_for_validation/booking_reviews_clean.json\", \"r\") as f:\n",
    "    clean_tickets = f.read()\n",
    "\n",
    "with open(\"json_file_for_validation/results_booking_reviews_clean.json\", \"r\") as f:\n",
    "    results_tickets = f.read()"
   ],
   "id": "359e35c403bef386",
   "outputs": [],
   "execution_count": 26
  },
  {
   "metadata": {},
   "cell_type": "code",
   "outputs": [],
   "execution_count": null,
   "source": "",
   "id": "54a311020052f889"
  }
 ],
 "metadata": {
  "kernelspec": {
   "display_name": "Python 3",
   "language": "python",
   "name": "python3"
  },
  "language_info": {
   "codemirror_mode": {
    "name": "ipython",
    "version": 2
   },
   "file_extension": ".py",
   "mimetype": "text/x-python",
   "name": "python",
   "nbconvert_exporter": "python",
   "pygments_lexer": "ipython2",
   "version": "2.7.6"
  }
 },
 "nbformat": 4,
 "nbformat_minor": 5
}
